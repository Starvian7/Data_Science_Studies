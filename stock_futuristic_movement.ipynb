{
  "metadata": {
    "language_info": {
      "codemirror_mode": {
        "name": "python",
        "version": 3
      },
      "file_extension": ".py",
      "mimetype": "text/x-python",
      "name": "python",
      "nbconvert_exporter": "python",
      "pygments_lexer": "ipython3",
      "version": "3.8"
    },
    "kernelspec": {
      "name": "python",
      "display_name": "Python (Pyodide)",
      "language": "python"
    }
  },
  "nbformat_minor": 4,
  "nbformat": 4,
  "cells": [
    {
      "cell_type": "markdown",
      "source": "Problem statement:\n    \n    A stock price always fluctuates, but is there a relation between a closing price and its moving averages?\n    \n    An analyst wants to showcase how the stock would move, he has 5 years of stock price data with him on which he needs to perform the analysis.",
      "metadata": {}
    },
    {
      "cell_type": "markdown",
      "source": "Objective:\n\n    Find the possible futuristic movement of the stock 'GOOG' based on its price for the last 5 years.",
      "metadata": {}
    },
    {
      "cell_type": "markdown",
      "source": "Variable:\n    \n    - Date: date of the stock price\n    - Open: opening price of the stock on that day\n    - High: peak price of the stock on that day\n    - Low: lowest price of the stock on that day\n    - Close: closing price of the stock on that day\n    - Volume: total volume traded on that day",
      "metadata": {}
    },
    {
      "cell_type": "markdown",
      "source": "Perform the following steps:\n    \n    1. Get 5 years of data from Finance Package (yfinance) with Ticker symbol 'GOOG\"\n    2. Create 50DMA and 200DMA\n    3. Plot it with the Actual Price\n    4. Basic EDA on the Data.\n    5. Fit Statsmodel OLS to find the best possible features",
      "metadata": {}
    },
    {
      "cell_type": "code",
      "source": "import piplite\nawait piplite.install('seaborn')",
      "metadata": {
        "trusted": true
      },
      "execution_count": 12,
      "outputs": []
    },
    {
      "cell_type": "code",
      "source": "await piplite.install('yfinance')",
      "metadata": {
        "trusted": true
      },
      "execution_count": 13,
      "outputs": []
    },
    {
      "cell_type": "code",
      "source": "import pandas as pd\nimport matplotlib.pyplot as plt\nimport seaborn as sns\n\nimport yfinance as yahooFinance\n\n%matplotlib inline\nsns.set_style('darkgrid')\n\nimport warnings\nwarnings.filterwarnings('ignore')",
      "metadata": {
        "trusted": true
      },
      "execution_count": 16,
      "outputs": []
    },
    {
      "cell_type": "code",
      "source": "proxies = {'http':'127.0.0.1:58591', 'https':'127.0.0.1:58591'}\n#data = yahooFinance.download('GOOG', start=\"2017-01-01\", end=\"2022-12-31\", proxy=proxies)\ndata = yahooFinance.download(\"GOOG\", start=\"2017-01-01\", end=\"2022-12-31\", threads=False)",
      "metadata": {
        "trusted": true
      },
      "execution_count": 26,
      "outputs": [
        {
          "name": "stdout",
          "text": "[*********************100%***********************]  1 of 1 completed\n\n1 Failed download:\n- GOOG: No timezone found, symbol may be delisted\n",
          "output_type": "stream"
        }
      ]
    },
    {
      "cell_type": "code",
      "source": "# 5 years of data\n#data = google.history('5Y')",
      "metadata": {
        "trusted": true
      },
      "execution_count": 9,
      "outputs": [
        {
          "name": "stdout",
          "text": "GOOG: No data found for this date range, symbol may be delisted\n",
          "output_type": "stream"
        }
      ]
    },
    {
      "cell_type": "code",
      "source": "data.head()",
      "metadata": {
        "trusted": true
      },
      "execution_count": 6,
      "outputs": [
        {
          "execution_count": 6,
          "output_type": "execute_result",
          "data": {
            "text/plain": "       Date    Open    High     Low   Close      Volume\n0  1/3/2012  325.25  332.83  324.97  663.59   7,380,500\n1  1/4/2012  331.27  333.87  329.08  666.45   5,749,400\n2  1/5/2012  329.83  330.75  326.89  657.21   6,590,300\n3  1/6/2012  328.34  328.77  323.68  648.24   5,405,900\n4  1/9/2012  322.04  322.29  309.46  620.76  11,688,800",
            "text/html": "<div>\n<style scoped>\n    .dataframe tbody tr th:only-of-type {\n        vertical-align: middle;\n    }\n\n    .dataframe tbody tr th {\n        vertical-align: top;\n    }\n\n    .dataframe thead th {\n        text-align: right;\n    }\n</style>\n<table border=\"1\" class=\"dataframe\">\n  <thead>\n    <tr style=\"text-align: right;\">\n      <th></th>\n      <th>Date</th>\n      <th>Open</th>\n      <th>High</th>\n      <th>Low</th>\n      <th>Close</th>\n      <th>Volume</th>\n    </tr>\n  </thead>\n  <tbody>\n    <tr>\n      <th>0</th>\n      <td>1/3/2012</td>\n      <td>325.25</td>\n      <td>332.83</td>\n      <td>324.97</td>\n      <td>663.59</td>\n      <td>7,380,500</td>\n    </tr>\n    <tr>\n      <th>1</th>\n      <td>1/4/2012</td>\n      <td>331.27</td>\n      <td>333.87</td>\n      <td>329.08</td>\n      <td>666.45</td>\n      <td>5,749,400</td>\n    </tr>\n    <tr>\n      <th>2</th>\n      <td>1/5/2012</td>\n      <td>329.83</td>\n      <td>330.75</td>\n      <td>326.89</td>\n      <td>657.21</td>\n      <td>6,590,300</td>\n    </tr>\n    <tr>\n      <th>3</th>\n      <td>1/6/2012</td>\n      <td>328.34</td>\n      <td>328.77</td>\n      <td>323.68</td>\n      <td>648.24</td>\n      <td>5,405,900</td>\n    </tr>\n    <tr>\n      <th>4</th>\n      <td>1/9/2012</td>\n      <td>322.04</td>\n      <td>322.29</td>\n      <td>309.46</td>\n      <td>620.76</td>\n      <td>11,688,800</td>\n    </tr>\n  </tbody>\n</table>\n</div>"
          },
          "metadata": {}
        }
      ]
    },
    {
      "cell_type": "code",
      "source": "###SOLUTION\nimport yfinance as yahooFinance\nimport matplotlib.pyplot as plt\nimport seaborn as sns\nimport warnings\n\nwarnings.filterwarnings('ignore')\n%matplotlib inline",
      "metadata": {},
      "execution_count": null,
      "outputs": []
    },
    {
      "cell_type": "code",
      "source": "google = yahooFinance.Ticker('GOOG')",
      "metadata": {},
      "execution_count": null,
      "outputs": []
    },
    {
      "cell_type": "code",
      "source": "# 5 Years of data\ndf = google.history('5Y')",
      "metadata": {},
      "execution_count": null,
      "outputs": []
    },
    {
      "cell_type": "code",
      "source": "df.head()",
      "metadata": {},
      "execution_count": null,
      "outputs": []
    },
    {
      "cell_type": "code",
      "source": "df.tail",
      "metadata": {},
      "execution_count": null,
      "outputs": []
    },
    {
      "cell_type": "code",
      "source": "df.shape",
      "metadata": {},
      "execution_count": null,
      "outputs": []
    },
    {
      "cell_type": "code",
      "source": "df.describe()",
      "metadata": {},
      "execution_count": null,
      "outputs": []
    },
    {
      "cell_type": "code",
      "source": "#Overview of closing price before calculating DMAs\nsns.set_style('darkgrid')\nplt.figure(figsize = (7,5), dpi = 150)\nplt.title('Closing Price')\nplt.plot(df['Close'])",
      "metadata": {},
      "execution_count": null,
      "outputs": []
    },
    {
      "cell_type": "code",
      "source": "#Calculate 50DMA\ndf['fiftyDMA'] = df['Close'].rolling(50).mean()",
      "metadata": {},
      "execution_count": null,
      "outputs": []
    },
    {
      "cell_type": "code",
      "source": "#Calculate 200DMA\ndf['thDMA'] = df['Close'].rolling(200).mean()",
      "metadata": {},
      "execution_count": null,
      "outputs": []
    },
    {
      "cell_type": "code",
      "source": "df.describe()",
      "metadata": {},
      "execution_count": null,
      "outputs": []
    },
    {
      "cell_type": "code",
      "source": "#Remove dividends and stock splits\ndf.drop(columns = ['Dividends','Stock Split'], inplace = True)",
      "metadata": {},
      "execution_count": null,
      "outputs": []
    },
    {
      "cell_type": "code",
      "source": "df.head()\n#The first 20, 50 and 200 rows would be null because its calculating the Moving Average.",
      "metadata": {},
      "execution_count": null,
      "outputs": []
    },
    {
      "cell_type": "code",
      "source": "df.tail()",
      "metadata": {},
      "execution_count": null,
      "outputs": []
    },
    {
      "cell_type": "code",
      "source": "#Plot clsing price vs 50DMA vs 200DMA\nsns.set_style('darkgrid')\nplt.figure(figsize = (7,5), dpi = 150)\nplt.title('Closing price vs 50DMA vs 200DMA')\nplt.plot(df['Close'], label = 'Close')\nplt.plot(df['fiftyDMA'], label = '50DMA')\nplt.plot(df['thDMA'], label = '200DMA')\nplt.legend()",
      "metadata": {},
      "execution_count": null,
      "outputs": []
    },
    {
      "cell_type": "markdown",
      "source": "50 DMA and 200 DMA are fairly good indicator of how the stock is moving from the graph above\n\nIf closing price above 50DMA or 200DMA = usually uptrend\n\nIf closing price below 50DMA or 200DMA = usually downtrend\n\nEvery point where 50DMA and 200DMA intersect, the market usually reverses its trend (High->Low | Low->High)\n\nHude dip at March 2020, indicates the COVID19 market crash.",
      "metadata": {}
    },
    {
      "cell_type": "markdown",
      "source": "# Finding the possible futuristic movement of the stock",
      "metadata": {}
    },
    {
      "cell_type": "code",
      "source": "#Analyse correlation between each variables\nplt.figure(figsize=(7,7), dpi = 100)\nsns.heatmap(df.corr(), annot = True)",
      "metadata": {},
      "execution_count": null,
      "outputs": []
    },
    {
      "cell_type": "code",
      "source": "#Closing price have high correlation with 50DMA and in fact with almost the variable except the volume\n#Also there is a strong multicollinearity between all the other variables.",
      "metadata": {},
      "execution_count": null,
      "outputs": []
    },
    {
      "cell_type": "code",
      "source": "#Plot distplot of 50DMA\nsns.set_style('darkgrid')\nplt.figure(figsize=(7,5), dpi = 150)\nplt.title('Distplot 50 DMA')\nsns.distplot(df['fiftyDMA'])",
      "metadata": {},
      "execution_count": null,
      "outputs": []
    },
    {
      "cell_type": "code",
      "source": "#Plot distplot of the close price\nsns.set_style('darkgrid')\nplt.figure(figsize=(7,5), dpi = 150)\nplt.title('Distplot of Close Price')\nsns.distplot(df['Close'])",
      "metadata": {},
      "execution_count": null,
      "outputs": []
    },
    {
      "cell_type": "code",
      "source": "#Seems to be following the same distribution",
      "metadata": {},
      "execution_count": null,
      "outputs": []
    },
    {
      "cell_type": "code",
      "source": "import statsmodels.formula.api as smf",
      "metadata": {},
      "execution_count": null,
      "outputs": []
    },
    {
      "cell_type": "code",
      "source": "#200DMA was not use, even it have high correlation with Close because 50DMA and 200DMA was closely related to each other as well.\n#So it was necessary to avoid multicollinearity when we are choosing features for our dataset.\n\nmodel = smf.ols(formula = 'Close ~ fiftyDMA', data = df)\nmodel = model.fit()",
      "metadata": {},
      "execution_count": null,
      "outputs": []
    },
    {
      "cell_type": "code",
      "source": "model.summary()",
      "metadata": {},
      "execution_count": null,
      "outputs": []
    },
    {
      "cell_type": "markdown",
      "source": "Good r2(R-squared) scores and coef\n\nSInce they are very highly correlated, ~ 1, it isn't wise to fit the model based on the parameters in real life.",
      "metadata": {}
    },
    {
      "cell_type": "code",
      "source": "sns.se_style('darkgrid')\nplt.figure(figsize = (7,5), dpi = 150)\nplt.title('Closing price vs 50DMA vs 200DMA')\nplt.plot(df['Close'], label = 'Close')\nplt.plot(df['fiftyDMA'], label = '50DMA')\nplt.plot(df['thDMA'], label = '200DMA')\nplt.legend()",
      "metadata": {},
      "execution_count": null,
      "outputs": []
    },
    {
      "cell_type": "code",
      "source": "#If we notice the graph, the closing price is below 50DMA and 200DMA this likely means that the price will go down further.\n#But at the end we notice that there is a steep increase which means that the 200DMA and 50DMA will change over time there will be a little bit of resistance\n#with respect to price so it was unlikely that the price will fall very steeply.",
      "metadata": {},
      "execution_count": null,
      "outputs": []
    },
    {
      "cell_type": "code",
      "source": "",
      "metadata": {},
      "execution_count": null,
      "outputs": []
    }
  ]
}