{
  "metadata": {
    "language_info": {
      "codemirror_mode": {
        "name": "python",
        "version": 3
      },
      "file_extension": ".py",
      "mimetype": "text/x-python",
      "name": "python",
      "nbconvert_exporter": "python",
      "pygments_lexer": "ipython3",
      "version": "3.8"
    },
    "kernelspec": {
      "name": "python",
      "display_name": "Python (Pyodide)",
      "language": "python"
    }
  },
  "nbformat_minor": 4,
  "nbformat": 4,
  "cells": [
    {
      "cell_type": "markdown",
      "source": "# Point Estimate\nAn economics researcher is collecting data about grocery store employees in a country. The data represent a random sample of the number of hours worked by 40 employees\nfrom several grocery stores in the country. Find a point estimate of the population mean.",
      "metadata": {}
    },
    {
      "cell_type": "code",
      "source": "# Random data of forty employees\ndata = [30, 26, 33, 26 ,26, 33, 31, 31, 21, 37,\n        27, 20, 34, 35, 30, 24, 38, 34, 39, 31,\n        22, 30, 23, 23, 31, 44, 31, 33, 33, 26,\n        27, 28, 25, 35, 23, 32, 29, 31, 25, 27]",
      "metadata": {
        "trusted": true
      },
      "execution_count": 1,
      "outputs": []
    },
    {
      "cell_type": "code",
      "source": "n = len(data)\nsample_mean = sum(data)/n\n\nprint('Sample mean: ', sample_mean)",
      "metadata": {
        "trusted": true
      },
      "execution_count": 2,
      "outputs": [
        {
          "name": "stdout",
          "text": "Sample mean:  29.6\n",
          "output_type": "stream"
        }
      ]
    },
    {
      "cell_type": "code",
      "source": "",
      "metadata": {},
      "execution_count": null,
      "outputs": []
    }
  ]
}