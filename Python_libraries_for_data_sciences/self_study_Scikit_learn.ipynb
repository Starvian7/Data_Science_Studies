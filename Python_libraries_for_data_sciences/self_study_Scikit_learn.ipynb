{
  "metadata": {
    "language_info": {
      "codemirror_mode": {
        "name": "python",
        "version": 3
      },
      "file_extension": ".py",
      "mimetype": "text/x-python",
      "name": "python",
      "nbconvert_exporter": "python",
      "pygments_lexer": "ipython3",
      "version": "3.8"
    },
    "kernelspec": {
      "name": "python",
      "display_name": "Python (Pyodide)",
      "language": "python"
    }
  },
  "nbformat_minor": 4,
  "nbformat": 4,
  "cells": [
    {
      "cell_type": "markdown",
      "source": "# Scikit-Learn",
      "metadata": {}
    },
    {
      "cell_type": "markdown",
      "source": "A powerful and modern machine learning Python library.\n\nUse for fully and semi-automated data analysis and information extraction.\n\nScikit-learn provides:\n\n    - Tools to identify, organize and solve real-life problems\n    - Free downloadable datasets\n    - Libraries to learn and make predictions\n    - Model support for every problem type\n    - Model persistence\n    - Open-source community and vendor support",
      "metadata": {}
    },
    {
      "cell_type": "markdown",
      "source": "Use to build a machine learning model that has features like:\n    \n    - Classification\n    - Regression\n    - Clustering",
      "metadata": {}
    },
    {
      "cell_type": "markdown",
      "source": "the Scikit-learn library includes various algorithms like:\n\n    - K-means\n    - K-nearest neighbors\n    - Support vector machine (SVM)\n    - Decision trees",
      "metadata": {}
    },
    {
      "cell_type": "markdown",
      "source": "## Problem-solution approach:\n\n    - Selecting a model\n    - Finding and estimator object\n    - Training the model\n    - Making predictions\n    - Tuning the model\n    - Finding accuracy",
      "metadata": {}
    },
    {
      "cell_type": "markdown",
      "source": "### Points to be considered while working with a scikit-learn dataset or loading data to scikit-learn:\n\n    - Create separate objects for features and responses\n    - Ensure features and responses only have numeric values\n    - Verify that the features and responses are in the form of a NumPy ndarray\n    - Ensure the features and responses have the same shape and size as the array\n    - Map the features as x and responses as y",
      "metadata": {}
    },
    {
      "cell_type": "markdown",
      "source": "Some popular models provided by scikit-learn:\n\n    - Clustering\n    - Cross-validation\n    - Ensemble methods\n    - Feature extraction\n    - Feature selection \n    - Parameter tuning\n    - Supervised learning algorithms\n    - Unsupervised learning algorithms",
      "metadata": {}
    },
    {
      "cell_type": "markdown",
      "source": "Sklearn.preprocessing package includes a set of common utility methods and transformer classes for transforming raw feature vectors into the best-fitting representation\nfor downstream estimators. These are:\n    \n    - Standardization (mean removal and variance scaling)\n    - Normalization\n    - Imputation of missing values\n    - Encoding categorical features",
      "metadata": {}
    },
    {
      "cell_type": "code",
      "source": "import pandas as pd",
      "metadata": {
        "trusted": true
      },
      "execution_count": 1,
      "outputs": []
    },
    {
      "cell_type": "code",
      "source": "data = pd.read_csv('Advertising.csv', index_col=0)\ndata.head()",
      "metadata": {
        "trusted": true
      },
      "execution_count": 3,
      "outputs": [
        {
          "execution_count": 3,
          "output_type": "execute_result",
          "data": {
            "text/plain": "      TV  Radio  Newspaper  Sales\n1  230.1   37.8       69.2   22.1\n2   44.5   39.3       45.1   10.4\n3   17.2   45.9       69.3    9.3\n4  151.5   41.3       58.5   18.5\n5  180.8   10.8       58.4   12.9",
            "text/html": "<div>\n<style scoped>\n    .dataframe tbody tr th:only-of-type {\n        vertical-align: middle;\n    }\n\n    .dataframe tbody tr th {\n        vertical-align: top;\n    }\n\n    .dataframe thead th {\n        text-align: right;\n    }\n</style>\n<table border=\"1\" class=\"dataframe\">\n  <thead>\n    <tr style=\"text-align: right;\">\n      <th></th>\n      <th>TV</th>\n      <th>Radio</th>\n      <th>Newspaper</th>\n      <th>Sales</th>\n    </tr>\n  </thead>\n  <tbody>\n    <tr>\n      <th>1</th>\n      <td>230.1</td>\n      <td>37.8</td>\n      <td>69.2</td>\n      <td>22.1</td>\n    </tr>\n    <tr>\n      <th>2</th>\n      <td>44.5</td>\n      <td>39.3</td>\n      <td>45.1</td>\n      <td>10.4</td>\n    </tr>\n    <tr>\n      <th>3</th>\n      <td>17.2</td>\n      <td>45.9</td>\n      <td>69.3</td>\n      <td>9.3</td>\n    </tr>\n    <tr>\n      <th>4</th>\n      <td>151.5</td>\n      <td>41.3</td>\n      <td>58.5</td>\n      <td>18.5</td>\n    </tr>\n    <tr>\n      <th>5</th>\n      <td>180.8</td>\n      <td>10.8</td>\n      <td>58.4</td>\n      <td>12.9</td>\n    </tr>\n  </tbody>\n</table>\n</div>"
          },
          "metadata": {}
        }
      ]
    },
    {
      "cell_type": "code",
      "source": "#dataset size\ndata.size",
      "metadata": {
        "trusted": true
      },
      "execution_count": 4,
      "outputs": [
        {
          "execution_count": 4,
          "output_type": "execute_result",
          "data": {
            "text/plain": "800"
          },
          "metadata": {}
        }
      ]
    },
    {
      "cell_type": "code",
      "source": "#dataset shape\ndata.shape",
      "metadata": {
        "trusted": true
      },
      "execution_count": 5,
      "outputs": [
        {
          "execution_count": 5,
          "output_type": "execute_result",
          "data": {
            "text/plain": "(200, 4)"
          },
          "metadata": {}
        }
      ]
    },
    {
      "cell_type": "code",
      "source": "#dataset columns\ndata.columns",
      "metadata": {
        "trusted": true
      },
      "execution_count": 7,
      "outputs": [
        {
          "execution_count": 7,
          "output_type": "execute_result",
          "data": {
            "text/plain": "Index(['TV', 'Radio', 'Newspaper', 'Sales'], dtype='object')"
          },
          "metadata": {}
        }
      ]
    },
    {
      "cell_type": "code",
      "source": "#create a feature object from the columns\nX_feature = data[['Newspaper', 'Radio', 'TV']]\n\n#view feature object\nX_feature.head()",
      "metadata": {
        "trusted": true
      },
      "execution_count": 11,
      "outputs": [
        {
          "execution_count": 11,
          "output_type": "execute_result",
          "data": {
            "text/plain": "   Newspaper  Radio     TV\n1       69.2   37.8  230.1\n2       45.1   39.3   44.5\n3       69.3   45.9   17.2\n4       58.5   41.3  151.5\n5       58.4   10.8  180.8",
            "text/html": "<div>\n<style scoped>\n    .dataframe tbody tr th:only-of-type {\n        vertical-align: middle;\n    }\n\n    .dataframe tbody tr th {\n        vertical-align: top;\n    }\n\n    .dataframe thead th {\n        text-align: right;\n    }\n</style>\n<table border=\"1\" class=\"dataframe\">\n  <thead>\n    <tr style=\"text-align: right;\">\n      <th></th>\n      <th>Newspaper</th>\n      <th>Radio</th>\n      <th>TV</th>\n    </tr>\n  </thead>\n  <tbody>\n    <tr>\n      <th>1</th>\n      <td>69.2</td>\n      <td>37.8</td>\n      <td>230.1</td>\n    </tr>\n    <tr>\n      <th>2</th>\n      <td>45.1</td>\n      <td>39.3</td>\n      <td>44.5</td>\n    </tr>\n    <tr>\n      <th>3</th>\n      <td>69.3</td>\n      <td>45.9</td>\n      <td>17.2</td>\n    </tr>\n    <tr>\n      <th>4</th>\n      <td>58.5</td>\n      <td>41.3</td>\n      <td>151.5</td>\n    </tr>\n    <tr>\n      <th>5</th>\n      <td>58.4</td>\n      <td>10.8</td>\n      <td>180.8</td>\n    </tr>\n  </tbody>\n</table>\n</div>"
          },
          "metadata": {}
        }
      ]
    },
    {
      "cell_type": "code",
      "source": "X_feature.shape #200 means 200 observations or rows is present and 3 is columns",
      "metadata": {
        "trusted": true
      },
      "execution_count": 22,
      "outputs": [
        {
          "execution_count": 22,
          "output_type": "execute_result",
          "data": {
            "text/plain": "(200, 3)"
          },
          "metadata": {}
        }
      ]
    },
    {
      "cell_type": "code",
      "source": "#create target object form sales column which is a response in the dataset\nY_target = data[['Sales']]\n\n#view the target object\nY_target.head()",
      "metadata": {
        "trusted": true
      },
      "execution_count": 23,
      "outputs": [
        {
          "execution_count": 23,
          "output_type": "execute_result",
          "data": {
            "text/plain": "   Sales\n1   22.1\n2   10.4\n3    9.3\n4   18.5\n5   12.9",
            "text/html": "<div>\n<style scoped>\n    .dataframe tbody tr th:only-of-type {\n        vertical-align: middle;\n    }\n\n    .dataframe tbody tr th {\n        vertical-align: top;\n    }\n\n    .dataframe thead th {\n        text-align: right;\n    }\n</style>\n<table border=\"1\" class=\"dataframe\">\n  <thead>\n    <tr style=\"text-align: right;\">\n      <th></th>\n      <th>Sales</th>\n    </tr>\n  </thead>\n  <tbody>\n    <tr>\n      <th>1</th>\n      <td>22.1</td>\n    </tr>\n    <tr>\n      <th>2</th>\n      <td>10.4</td>\n    </tr>\n    <tr>\n      <th>3</th>\n      <td>9.3</td>\n    </tr>\n    <tr>\n      <th>4</th>\n      <td>18.5</td>\n    </tr>\n    <tr>\n      <th>5</th>\n      <td>12.9</td>\n    </tr>\n  </tbody>\n</table>\n</div>"
          },
          "metadata": {}
        }
      ]
    },
    {
      "cell_type": "code",
      "source": "Y_target.shape #200 means 200 observations or rows is present and 1 is columns",
      "metadata": {
        "trusted": true
      },
      "execution_count": 24,
      "outputs": [
        {
          "execution_count": 24,
          "output_type": "execute_result",
          "data": {
            "text/plain": "(200, 1)"
          },
          "metadata": {}
        }
      ]
    },
    {
      "cell_type": "code",
      "source": "#split test and training data\n#by default 75% training data and 25% testing data\n\nfrom sklearn.model_selection import train_test_split\nx_train, x_test, y_train, y_test = train_test_split(X_feature, Y_target, random_state=1)",
      "metadata": {
        "trusted": true
      },
      "execution_count": 25,
      "outputs": []
    },
    {
      "cell_type": "code",
      "source": "#view shape of train and test data sets for both feature and response\nprint (x_train.shape)\nprint (y_train.shape)\nprint (x_test.shape)\nprint (y_test.shape)",
      "metadata": {
        "trusted": true
      },
      "execution_count": 28,
      "outputs": [
        {
          "name": "stdout",
          "text": "(150, 3)\n(150, 1)\n(50, 3)\n(50, 1)\n",
          "output_type": "stream"
        }
      ]
    },
    {
      "cell_type": "code",
      "source": "#linear regression model\nfrom sklearn.linear_model import LinearRegression",
      "metadata": {
        "trusted": true
      },
      "execution_count": 31,
      "outputs": []
    },
    {
      "cell_type": "code",
      "source": "#code to create a linear regression model which will predict the sales outcome for any new data\nlinreg = LinearRegression()\nlinreg.fit(x_train, y_train)",
      "metadata": {
        "trusted": true
      },
      "execution_count": 32,
      "outputs": [
        {
          "execution_count": 32,
          "output_type": "execute_result",
          "data": {
            "text/plain": "LinearRegression()",
            "text/html": "<style>#sk-container-id-2 {color: black;background-color: white;}#sk-container-id-2 pre{padding: 0;}#sk-container-id-2 div.sk-toggleable {background-color: white;}#sk-container-id-2 label.sk-toggleable__label {cursor: pointer;display: block;width: 100%;margin-bottom: 0;padding: 0.3em;box-sizing: border-box;text-align: center;}#sk-container-id-2 label.sk-toggleable__label-arrow:before {content: \"▸\";float: left;margin-right: 0.25em;color: #696969;}#sk-container-id-2 label.sk-toggleable__label-arrow:hover:before {color: black;}#sk-container-id-2 div.sk-estimator:hover label.sk-toggleable__label-arrow:before {color: black;}#sk-container-id-2 div.sk-toggleable__content {max-height: 0;max-width: 0;overflow: hidden;text-align: left;background-color: #f0f8ff;}#sk-container-id-2 div.sk-toggleable__content pre {margin: 0.2em;color: black;border-radius: 0.25em;background-color: #f0f8ff;}#sk-container-id-2 input.sk-toggleable__control:checked~div.sk-toggleable__content {max-height: 200px;max-width: 100%;overflow: auto;}#sk-container-id-2 input.sk-toggleable__control:checked~label.sk-toggleable__label-arrow:before {content: \"▾\";}#sk-container-id-2 div.sk-estimator input.sk-toggleable__control:checked~label.sk-toggleable__label {background-color: #d4ebff;}#sk-container-id-2 div.sk-label input.sk-toggleable__control:checked~label.sk-toggleable__label {background-color: #d4ebff;}#sk-container-id-2 input.sk-hidden--visually {border: 0;clip: rect(1px 1px 1px 1px);clip: rect(1px, 1px, 1px, 1px);height: 1px;margin: -1px;overflow: hidden;padding: 0;position: absolute;width: 1px;}#sk-container-id-2 div.sk-estimator {font-family: monospace;background-color: #f0f8ff;border: 1px dotted black;border-radius: 0.25em;box-sizing: border-box;margin-bottom: 0.5em;}#sk-container-id-2 div.sk-estimator:hover {background-color: #d4ebff;}#sk-container-id-2 div.sk-parallel-item::after {content: \"\";width: 100%;border-bottom: 1px solid gray;flex-grow: 1;}#sk-container-id-2 div.sk-label:hover label.sk-toggleable__label {background-color: #d4ebff;}#sk-container-id-2 div.sk-serial::before {content: \"\";position: absolute;border-left: 1px solid gray;box-sizing: border-box;top: 0;bottom: 0;left: 50%;z-index: 0;}#sk-container-id-2 div.sk-serial {display: flex;flex-direction: column;align-items: center;background-color: white;padding-right: 0.2em;padding-left: 0.2em;position: relative;}#sk-container-id-2 div.sk-item {position: relative;z-index: 1;}#sk-container-id-2 div.sk-parallel {display: flex;align-items: stretch;justify-content: center;background-color: white;position: relative;}#sk-container-id-2 div.sk-item::before, #sk-container-id-2 div.sk-parallel-item::before {content: \"\";position: absolute;border-left: 1px solid gray;box-sizing: border-box;top: 0;bottom: 0;left: 50%;z-index: -1;}#sk-container-id-2 div.sk-parallel-item {display: flex;flex-direction: column;z-index: 1;position: relative;background-color: white;}#sk-container-id-2 div.sk-parallel-item:first-child::after {align-self: flex-end;width: 50%;}#sk-container-id-2 div.sk-parallel-item:last-child::after {align-self: flex-start;width: 50%;}#sk-container-id-2 div.sk-parallel-item:only-child::after {width: 0;}#sk-container-id-2 div.sk-dashed-wrapped {border: 1px dashed gray;margin: 0 0.4em 0.5em 0.4em;box-sizing: border-box;padding-bottom: 0.4em;background-color: white;}#sk-container-id-2 div.sk-label label {font-family: monospace;font-weight: bold;display: inline-block;line-height: 1.2em;}#sk-container-id-2 div.sk-label-container {text-align: center;}#sk-container-id-2 div.sk-container {/* jupyter's `normalize.less` sets `[hidden] { display: none; }` but bootstrap.min.css set `[hidden] { display: none !important; }` so we also need the `!important` here to be able to override the default hidden behavior on the sphinx rendered scikit-learn.org. See: https://github.com/scikit-learn/scikit-learn/issues/21755 */display: inline-block !important;position: relative;}#sk-container-id-2 div.sk-text-repr-fallback {display: none;}</style><div id=\"sk-container-id-2\" class=\"sk-top-container\"><div class=\"sk-text-repr-fallback\"><pre>LinearRegression()</pre><b>In a Jupyter environment, please rerun this cell to show the HTML representation or trust the notebook. <br />On GitHub, the HTML representation is unable to render, please try loading this page with nbviewer.org.</b></div><div class=\"sk-container\" hidden><div class=\"sk-item\"><div class=\"sk-estimator sk-toggleable\"><input class=\"sk-toggleable__control sk-hidden--visually\" id=\"sk-estimator-id-2\" type=\"checkbox\" checked><label for=\"sk-estimator-id-2\" class=\"sk-toggleable__label sk-toggleable__label-arrow\">LinearRegression</label><div class=\"sk-toggleable__content\"><pre>LinearRegression()</pre></div></div></div></div></div>"
          },
          "metadata": {}
        }
      ]
    },
    {
      "cell_type": "code",
      "source": "#print the intercept and coefficients\nprint(linreg.intercept_)\nprint(linreg.coef_)",
      "metadata": {
        "trusted": true
      },
      "execution_count": 34,
      "outputs": [
        {
          "name": "stdout",
          "text": "[2.87696662]\n[[0.00345046 0.17915812 0.04656457]]\n",
          "output_type": "stream"
        }
      ]
    },
    {
      "cell_type": "code",
      "source": "#prediction\ny_pred = linreg.predict(x_test)\ny_pred",
      "metadata": {
        "trusted": true
      },
      "execution_count": 41,
      "outputs": [
        {
          "execution_count": 41,
          "output_type": "execute_result",
          "data": {
            "text/plain": "array([[21.70910292],\n       [16.41055243],\n       [ 7.60955058],\n       [17.80769552],\n       [18.6146359 ],\n       [23.83573998],\n       [16.32488681],\n       [13.43225536],\n       [ 9.17173403],\n       [17.333853  ],\n       [14.44479482],\n       [ 9.83511973],\n       [17.18797614],\n       [16.73086831],\n       [15.05529391],\n       [15.61434433],\n       [12.42541574],\n       [17.17716376],\n       [11.08827566],\n       [18.00537501],\n       [ 9.28438889],\n       [12.98458458],\n       [ 8.79950614],\n       [10.42382499],\n       [11.3846456 ],\n       [14.98082512],\n       [ 9.78853268],\n       [19.39643187],\n       [18.18099936],\n       [17.12807566],\n       [21.54670213],\n       [14.69809481],\n       [16.24641438],\n       [12.32114579],\n       [19.92422501],\n       [15.32498602],\n       [13.88726522],\n       [10.03162255],\n       [20.93105915],\n       [ 7.44936831],\n       [ 3.64695761],\n       [ 7.22020178],\n       [ 5.9962782 ],\n       [18.43381853],\n       [ 8.39408045],\n       [14.08371047],\n       [15.02195699],\n       [20.35836418],\n       [20.57036347],\n       [19.60636679]])"
          },
          "metadata": {}
        }
      ]
    },
    {
      "cell_type": "code",
      "source": "#test model accuracy by calculating Mean Squared Error (MSE)\nfrom sklearn import metrics\nimport numpy as np",
      "metadata": {
        "trusted": true
      },
      "execution_count": 42,
      "outputs": []
    },
    {
      "cell_type": "code",
      "source": "print(np.sqrt(metrics.mean_squared_error(y_test, y_pred)))",
      "metadata": {
        "trusted": true
      },
      "execution_count": 46,
      "outputs": [
        {
          "name": "stdout",
          "text": "1.4046514230328944\n",
          "output_type": "stream"
        }
      ]
    }
  ]
}