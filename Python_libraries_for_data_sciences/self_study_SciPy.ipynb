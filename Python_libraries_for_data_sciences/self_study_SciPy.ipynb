{
  "metadata": {
    "language_info": {
      "codemirror_mode": {
        "name": "python",
        "version": 3
      },
      "file_extension": ".py",
      "mimetype": "text/x-python",
      "name": "python",
      "nbconvert_exporter": "python",
      "pygments_lexer": "ipython3",
      "version": "3.8"
    },
    "kernelspec": {
      "name": "python",
      "display_name": "Python (Pyodide)",
      "language": "python"
    }
  },
  "nbformat_minor": 4,
  "nbformat": 4,
  "cells": [
    {
      "cell_type": "markdown",
      "source": "# Scipy (Scientific Python)",
      "metadata": {}
    },
    {
      "cell_type": "markdown",
      "source": "An extension of NumPy for scientific and advanced mathematical algorithms and functions.\n\nSciPy has built-in packages that help in handling the scientific domains:\n\n    - Mathematical integration\n    - Linar algebra\n    - Statistics (Normal distribution)\n    - Language integration\n    - Multidimensional image processing",
      "metadata": {}
    },
    {
      "cell_type": "markdown",
      "source": "SciPy characteristics:\n\n    - Built in mathematical libraries and functions\n    - High-level commands for data manipulation and visualization\n    - Efficient and fast data processing\n    - Integrates well with multiple systems and environments\n    - Large collection of subpackages for different scientific domains\n    - Simplifies scientific application development",
      "metadata": {}
    },
    {
      "cell_type": "markdown",
      "source": "Subpackages:\n\n    - Cluster\n    - Constants\n    - fftpack\n    - integrate\n    - Spatial\n    - Interpolate\n    - I/O\n    - linalg \n    - ndimage\n    - odr\n    - Optimize\n    - Signal\n    - Sparse\n    - Weave (integrates C and C++)\n    - Stats (statistical distributions and functions)\n    - Special (use to retrieve other special functions)",
      "metadata": {}
    },
    {
      "cell_type": "code",
      "source": "import numpy as np\nfrom scipy import linalg",
      "metadata": {
        "trusted": true
      },
      "execution_count": 5,
      "outputs": []
    },
    {
      "cell_type": "code",
      "source": "#Test has 30 questions and worth 150 marks\n#True and false questions worrth 4 marks each\n#Multiple choice questions worth 9 points each\n\n#Let x be the number of true/false questions\n#Let y be the number of multiple choice questions\n\n# (x + y = 30)\n# (4x + 9y = 150)\ntestQuestionVar = np.array([[1,1],[4,9]])\ntestQuestionVal = np.array([30,150])",
      "metadata": {
        "trusted": true
      },
      "execution_count": 7,
      "outputs": []
    },
    {
      "cell_type": "code",
      "source": "#use SciPy's linalg function\n#use solve method to solve the linear equation and find value for x and y\n\nlinalg.solve(testQuestionVar, testQuestionVal)",
      "metadata": {
        "trusted": true
      },
      "execution_count": 10,
      "outputs": [
        {
          "execution_count": 10,
          "output_type": "execute_result",
          "data": {
            "text/plain": "array([24.,  6.])"
          },
          "metadata": {}
        }
      ]
    }
  ]
}