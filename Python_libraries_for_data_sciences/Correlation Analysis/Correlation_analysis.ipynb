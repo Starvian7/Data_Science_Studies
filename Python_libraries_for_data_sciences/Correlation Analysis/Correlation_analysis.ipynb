{
  "metadata": {
    "language_info": {
      "codemirror_mode": {
        "name": "python",
        "version": 3
      },
      "file_extension": ".py",
      "mimetype": "text/x-python",
      "name": "python",
      "nbconvert_exporter": "python",
      "pygments_lexer": "ipython3",
      "version": "3.8"
    },
    "kernelspec": {
      "name": "python",
      "display_name": "Python (Pyodide)",
      "language": "python"
    }
  },
  "nbformat_minor": 4,
  "nbformat": 4,
  "cells": [
    {
      "cell_type": "code",
      "source": "import pandas as pd",
      "metadata": {
        "trusted": true
      },
      "execution_count": 7,
      "outputs": []
    },
    {
      "cell_type": "code",
      "source": "df = pd.readf = pd.read_csv('middle_tn_schools.csv')",
      "metadata": {
        "trusted": true
      },
      "execution_count": 8,
      "outputs": []
    },
    {
      "cell_type": "code",
      "source": "df.head()",
      "metadata": {
        "trusted": true
      },
      "execution_count": 9,
      "outputs": [
        {
          "execution_count": 9,
          "output_type": "execute_result",
          "data": {
            "text/plain": "                          name  school_rating   size  reduced_lunch  \\\n0  Allendale Elementary School            5.0  851.0           10.0   \n1          Anderson Elementary            2.0  412.0           71.0   \n2             Avoca Elementary            4.0  482.0           43.0   \n3                Bailey Middle            0.0  394.0           91.0   \n4          Barfield Elementary            4.0  948.0           26.0   \n\n   state_percentile_16  state_percentile_15  stu_teach_ratio    school_type  \\\n0                 90.2                 95.8             15.7         Public   \n1                 32.8                 37.3             12.8         Public   \n2                 78.4                 83.6             16.6         Public   \n3                  1.6                  1.0             13.1  Public Magnet   \n4                 85.3                 89.2             14.8         Public   \n\n   avg_score_15  avg_score_16  full_time_teachers  percent_black  \\\n0          89.4          85.2                54.0            2.9   \n1          43.0          38.3                32.0            3.9   \n2          75.7          73.0                29.0            1.0   \n3           2.1           4.4                30.0           80.7   \n4          81.3          79.6                64.0           11.8   \n\n   percent_white  percent_asian  percent_hispanic  \n0           85.5            1.6               5.6  \n1           86.7            1.0               4.9  \n2           91.5            1.2               4.4  \n3           11.7            2.3               4.3  \n4           71.2            7.1               6.0  ",
            "text/html": "<div>\n<style scoped>\n    .dataframe tbody tr th:only-of-type {\n        vertical-align: middle;\n    }\n\n    .dataframe tbody tr th {\n        vertical-align: top;\n    }\n\n    .dataframe thead th {\n        text-align: right;\n    }\n</style>\n<table border=\"1\" class=\"dataframe\">\n  <thead>\n    <tr style=\"text-align: right;\">\n      <th></th>\n      <th>name</th>\n      <th>school_rating</th>\n      <th>size</th>\n      <th>reduced_lunch</th>\n      <th>state_percentile_16</th>\n      <th>state_percentile_15</th>\n      <th>stu_teach_ratio</th>\n      <th>school_type</th>\n      <th>avg_score_15</th>\n      <th>avg_score_16</th>\n      <th>full_time_teachers</th>\n      <th>percent_black</th>\n      <th>percent_white</th>\n      <th>percent_asian</th>\n      <th>percent_hispanic</th>\n    </tr>\n  </thead>\n  <tbody>\n    <tr>\n      <th>0</th>\n      <td>Allendale Elementary School</td>\n      <td>5.0</td>\n      <td>851.0</td>\n      <td>10.0</td>\n      <td>90.2</td>\n      <td>95.8</td>\n      <td>15.7</td>\n      <td>Public</td>\n      <td>89.4</td>\n      <td>85.2</td>\n      <td>54.0</td>\n      <td>2.9</td>\n      <td>85.5</td>\n      <td>1.6</td>\n      <td>5.6</td>\n    </tr>\n    <tr>\n      <th>1</th>\n      <td>Anderson Elementary</td>\n      <td>2.0</td>\n      <td>412.0</td>\n      <td>71.0</td>\n      <td>32.8</td>\n      <td>37.3</td>\n      <td>12.8</td>\n      <td>Public</td>\n      <td>43.0</td>\n      <td>38.3</td>\n      <td>32.0</td>\n      <td>3.9</td>\n      <td>86.7</td>\n      <td>1.0</td>\n      <td>4.9</td>\n    </tr>\n    <tr>\n      <th>2</th>\n      <td>Avoca Elementary</td>\n      <td>4.0</td>\n      <td>482.0</td>\n      <td>43.0</td>\n      <td>78.4</td>\n      <td>83.6</td>\n      <td>16.6</td>\n      <td>Public</td>\n      <td>75.7</td>\n      <td>73.0</td>\n      <td>29.0</td>\n      <td>1.0</td>\n      <td>91.5</td>\n      <td>1.2</td>\n      <td>4.4</td>\n    </tr>\n    <tr>\n      <th>3</th>\n      <td>Bailey Middle</td>\n      <td>0.0</td>\n      <td>394.0</td>\n      <td>91.0</td>\n      <td>1.6</td>\n      <td>1.0</td>\n      <td>13.1</td>\n      <td>Public Magnet</td>\n      <td>2.1</td>\n      <td>4.4</td>\n      <td>30.0</td>\n      <td>80.7</td>\n      <td>11.7</td>\n      <td>2.3</td>\n      <td>4.3</td>\n    </tr>\n    <tr>\n      <th>4</th>\n      <td>Barfield Elementary</td>\n      <td>4.0</td>\n      <td>948.0</td>\n      <td>26.0</td>\n      <td>85.3</td>\n      <td>89.2</td>\n      <td>14.8</td>\n      <td>Public</td>\n      <td>81.3</td>\n      <td>79.6</td>\n      <td>64.0</td>\n      <td>11.8</td>\n      <td>71.2</td>\n      <td>7.1</td>\n      <td>6.0</td>\n    </tr>\n  </tbody>\n</table>\n</div>"
          },
          "metadata": {}
        }
      ]
    },
    {
      "cell_type": "code",
      "source": "df.tail()",
      "metadata": {
        "trusted": true
      },
      "execution_count": 10,
      "outputs": [
        {
          "execution_count": 10,
          "output_type": "execute_result",
          "data": {
            "text/plain": "                             name  school_rating   size  reduced_lunch  \\\n342  Winfree Bryant Middle School            3.0  611.0           57.0   \n343    Winstead Elementary School            5.0  515.0            8.0   \n344           Woodland Elementary            4.0  424.0           55.0   \n345        Woodland Middle School            5.0  866.0            2.0   \n346                 Wright Middle            0.0  829.0           89.0   \n\n     state_percentile_16  state_percentile_15  stu_teach_ratio school_type  \\\n342                 59.1                 65.2             16.9      Public   \n343                 93.9                 97.0             14.3      Public   \n344                 84.8                 76.7             14.1      Public   \n345                 93.3                 97.1             19.2      Public   \n346                  4.5                  1.2             16.5      Public   \n\n     avg_score_15  avg_score_16  full_time_teachers  percent_black  \\\n342          61.4          57.7                36.0           15.2   \n343          92.0          89.3                36.0            3.3   \n344          69.4          79.4                30.0           11.6   \n345          89.8          84.9                45.0            4.5   \n346           2.7           9.6                50.0           22.3   \n\n     percent_white  percent_asian  percent_hispanic  \n342           66.3            1.5              15.7  \n343           87.4            3.1               4.1  \n344           70.5            2.1               9.7  \n345           77.6           10.0               4.4  \n346           21.0            6.6              49.5  ",
            "text/html": "<div>\n<style scoped>\n    .dataframe tbody tr th:only-of-type {\n        vertical-align: middle;\n    }\n\n    .dataframe tbody tr th {\n        vertical-align: top;\n    }\n\n    .dataframe thead th {\n        text-align: right;\n    }\n</style>\n<table border=\"1\" class=\"dataframe\">\n  <thead>\n    <tr style=\"text-align: right;\">\n      <th></th>\n      <th>name</th>\n      <th>school_rating</th>\n      <th>size</th>\n      <th>reduced_lunch</th>\n      <th>state_percentile_16</th>\n      <th>state_percentile_15</th>\n      <th>stu_teach_ratio</th>\n      <th>school_type</th>\n      <th>avg_score_15</th>\n      <th>avg_score_16</th>\n      <th>full_time_teachers</th>\n      <th>percent_black</th>\n      <th>percent_white</th>\n      <th>percent_asian</th>\n      <th>percent_hispanic</th>\n    </tr>\n  </thead>\n  <tbody>\n    <tr>\n      <th>342</th>\n      <td>Winfree Bryant Middle School</td>\n      <td>3.0</td>\n      <td>611.0</td>\n      <td>57.0</td>\n      <td>59.1</td>\n      <td>65.2</td>\n      <td>16.9</td>\n      <td>Public</td>\n      <td>61.4</td>\n      <td>57.7</td>\n      <td>36.0</td>\n      <td>15.2</td>\n      <td>66.3</td>\n      <td>1.5</td>\n      <td>15.7</td>\n    </tr>\n    <tr>\n      <th>343</th>\n      <td>Winstead Elementary School</td>\n      <td>5.0</td>\n      <td>515.0</td>\n      <td>8.0</td>\n      <td>93.9</td>\n      <td>97.0</td>\n      <td>14.3</td>\n      <td>Public</td>\n      <td>92.0</td>\n      <td>89.3</td>\n      <td>36.0</td>\n      <td>3.3</td>\n      <td>87.4</td>\n      <td>3.1</td>\n      <td>4.1</td>\n    </tr>\n    <tr>\n      <th>344</th>\n      <td>Woodland Elementary</td>\n      <td>4.0</td>\n      <td>424.0</td>\n      <td>55.0</td>\n      <td>84.8</td>\n      <td>76.7</td>\n      <td>14.1</td>\n      <td>Public</td>\n      <td>69.4</td>\n      <td>79.4</td>\n      <td>30.0</td>\n      <td>11.6</td>\n      <td>70.5</td>\n      <td>2.1</td>\n      <td>9.7</td>\n    </tr>\n    <tr>\n      <th>345</th>\n      <td>Woodland Middle School</td>\n      <td>5.0</td>\n      <td>866.0</td>\n      <td>2.0</td>\n      <td>93.3</td>\n      <td>97.1</td>\n      <td>19.2</td>\n      <td>Public</td>\n      <td>89.8</td>\n      <td>84.9</td>\n      <td>45.0</td>\n      <td>4.5</td>\n      <td>77.6</td>\n      <td>10.0</td>\n      <td>4.4</td>\n    </tr>\n    <tr>\n      <th>346</th>\n      <td>Wright Middle</td>\n      <td>0.0</td>\n      <td>829.0</td>\n      <td>89.0</td>\n      <td>4.5</td>\n      <td>1.2</td>\n      <td>16.5</td>\n      <td>Public</td>\n      <td>2.7</td>\n      <td>9.6</td>\n      <td>50.0</td>\n      <td>22.3</td>\n      <td>21.0</td>\n      <td>6.6</td>\n      <td>49.5</td>\n    </tr>\n  </tbody>\n</table>\n</div>"
          },
          "metadata": {}
        }
      ]
    },
    {
      "cell_type": "code",
      "source": "df.describe()",
      "metadata": {
        "trusted": true
      },
      "execution_count": 11,
      "outputs": [
        {
          "execution_count": 11,
          "output_type": "execute_result",
          "data": {
            "text/plain": "       school_rating         size  reduced_lunch  state_percentile_16  \\\ncount     347.000000   347.000000     347.000000           347.000000   \nmean        2.968300   699.472622      50.279539            58.801729   \nstd         1.690377   400.598636      25.480236            32.540747   \nmin         0.000000    53.000000       2.000000             0.200000   \n25%         2.000000   420.500000      30.000000            30.950000   \n50%         3.000000   595.000000      51.000000            66.400000   \n75%         4.000000   851.000000      71.500000            88.000000   \nmax         5.000000  2314.000000      98.000000            99.800000   \n\n       state_percentile_15  stu_teach_ratio  avg_score_15  avg_score_16  \\\ncount           341.000000       347.000000    341.000000    347.000000   \nmean             58.249267        15.461671     57.004692     57.049856   \nstd              32.702630         5.725170     26.696450     27.968974   \nmin               0.600000         4.700000      1.500000      0.100000   \n25%              27.100000        13.700000     37.600000     37.000000   \n50%              65.800000        15.000000     61.800000     60.700000   \n75%              88.600000        16.700000     79.600000     80.250000   \nmax              99.800000       111.000000     99.000000     98.900000   \n\n       full_time_teachers  percent_black  percent_white  percent_asian  \\\ncount          347.000000     347.000000     347.000000     347.000000   \nmean            44.939481      21.197983      61.673487       2.642651   \nstd             22.053386      23.562538      27.274859       3.109629   \nmin              2.000000       0.000000       1.100000       0.000000   \n25%             30.000000       3.600000      40.600000       0.750000   \n50%             40.000000      13.500000      68.700000       1.600000   \n75%             54.000000      28.350000      85.950000       3.100000   \nmax            140.000000      97.400000      99.700000      21.100000   \n\n       percent_hispanic  \ncount        347.000000  \nmean          11.164553  \nstd           12.030608  \nmin            0.000000  \n25%            3.800000  \n50%            6.400000  \n75%           13.800000  \nmax           65.200000  ",
            "text/html": "<div>\n<style scoped>\n    .dataframe tbody tr th:only-of-type {\n        vertical-align: middle;\n    }\n\n    .dataframe tbody tr th {\n        vertical-align: top;\n    }\n\n    .dataframe thead th {\n        text-align: right;\n    }\n</style>\n<table border=\"1\" class=\"dataframe\">\n  <thead>\n    <tr style=\"text-align: right;\">\n      <th></th>\n      <th>school_rating</th>\n      <th>size</th>\n      <th>reduced_lunch</th>\n      <th>state_percentile_16</th>\n      <th>state_percentile_15</th>\n      <th>stu_teach_ratio</th>\n      <th>avg_score_15</th>\n      <th>avg_score_16</th>\n      <th>full_time_teachers</th>\n      <th>percent_black</th>\n      <th>percent_white</th>\n      <th>percent_asian</th>\n      <th>percent_hispanic</th>\n    </tr>\n  </thead>\n  <tbody>\n    <tr>\n      <th>count</th>\n      <td>347.000000</td>\n      <td>347.000000</td>\n      <td>347.000000</td>\n      <td>347.000000</td>\n      <td>341.000000</td>\n      <td>347.000000</td>\n      <td>341.000000</td>\n      <td>347.000000</td>\n      <td>347.000000</td>\n      <td>347.000000</td>\n      <td>347.000000</td>\n      <td>347.000000</td>\n      <td>347.000000</td>\n    </tr>\n    <tr>\n      <th>mean</th>\n      <td>2.968300</td>\n      <td>699.472622</td>\n      <td>50.279539</td>\n      <td>58.801729</td>\n      <td>58.249267</td>\n      <td>15.461671</td>\n      <td>57.004692</td>\n      <td>57.049856</td>\n      <td>44.939481</td>\n      <td>21.197983</td>\n      <td>61.673487</td>\n      <td>2.642651</td>\n      <td>11.164553</td>\n    </tr>\n    <tr>\n      <th>std</th>\n      <td>1.690377</td>\n      <td>400.598636</td>\n      <td>25.480236</td>\n      <td>32.540747</td>\n      <td>32.702630</td>\n      <td>5.725170</td>\n      <td>26.696450</td>\n      <td>27.968974</td>\n      <td>22.053386</td>\n      <td>23.562538</td>\n      <td>27.274859</td>\n      <td>3.109629</td>\n      <td>12.030608</td>\n    </tr>\n    <tr>\n      <th>min</th>\n      <td>0.000000</td>\n      <td>53.000000</td>\n      <td>2.000000</td>\n      <td>0.200000</td>\n      <td>0.600000</td>\n      <td>4.700000</td>\n      <td>1.500000</td>\n      <td>0.100000</td>\n      <td>2.000000</td>\n      <td>0.000000</td>\n      <td>1.100000</td>\n      <td>0.000000</td>\n      <td>0.000000</td>\n    </tr>\n    <tr>\n      <th>25%</th>\n      <td>2.000000</td>\n      <td>420.500000</td>\n      <td>30.000000</td>\n      <td>30.950000</td>\n      <td>27.100000</td>\n      <td>13.700000</td>\n      <td>37.600000</td>\n      <td>37.000000</td>\n      <td>30.000000</td>\n      <td>3.600000</td>\n      <td>40.600000</td>\n      <td>0.750000</td>\n      <td>3.800000</td>\n    </tr>\n    <tr>\n      <th>50%</th>\n      <td>3.000000</td>\n      <td>595.000000</td>\n      <td>51.000000</td>\n      <td>66.400000</td>\n      <td>65.800000</td>\n      <td>15.000000</td>\n      <td>61.800000</td>\n      <td>60.700000</td>\n      <td>40.000000</td>\n      <td>13.500000</td>\n      <td>68.700000</td>\n      <td>1.600000</td>\n      <td>6.400000</td>\n    </tr>\n    <tr>\n      <th>75%</th>\n      <td>4.000000</td>\n      <td>851.000000</td>\n      <td>71.500000</td>\n      <td>88.000000</td>\n      <td>88.600000</td>\n      <td>16.700000</td>\n      <td>79.600000</td>\n      <td>80.250000</td>\n      <td>54.000000</td>\n      <td>28.350000</td>\n      <td>85.950000</td>\n      <td>3.100000</td>\n      <td>13.800000</td>\n    </tr>\n    <tr>\n      <th>max</th>\n      <td>5.000000</td>\n      <td>2314.000000</td>\n      <td>98.000000</td>\n      <td>99.800000</td>\n      <td>99.800000</td>\n      <td>111.000000</td>\n      <td>99.000000</td>\n      <td>98.900000</td>\n      <td>140.000000</td>\n      <td>97.400000</td>\n      <td>99.700000</td>\n      <td>21.100000</td>\n      <td>65.200000</td>\n    </tr>\n  </tbody>\n</table>\n</div>"
          },
          "metadata": {}
        }
      ]
    },
    {
      "cell_type": "code",
      "source": "df[['reduced_lunch','school_rating']].groupby(['school_rating']).describe().unstack()",
      "metadata": {
        "trusted": true
      },
      "execution_count": 12,
      "outputs": [
        {
          "execution_count": 12,
          "output_type": "execute_result",
          "data": {
            "text/plain": "                      school_rating\nreduced_lunch  count  0.0              43.000000\n                      1.0              40.000000\n                      2.0              44.000000\n                      3.0              56.000000\n                      4.0              86.000000\n                      5.0              78.000000\n               mean   0.0              83.581395\n                      1.0              74.950000\n                      2.0              64.272727\n                      3.0              50.285714\n                      4.0              41.000000\n                      5.0              21.602564\n               std    0.0               8.813498\n                      1.0              11.644191\n                      2.0              11.956051\n                      3.0              13.550866\n                      4.0              16.681092\n                      5.0              17.651268\n               min    0.0              53.000000\n                      1.0              53.000000\n                      2.0              37.000000\n                      3.0              24.000000\n                      4.0               4.000000\n                      5.0               2.000000\n               25%    0.0              79.500000\n                      1.0              65.000000\n                      2.0              54.750000\n                      3.0              41.000000\n                      4.0              30.000000\n                      5.0               8.000000\n               50%    0.0              86.000000\n                      1.0              74.500000\n                      2.0              62.500000\n                      3.0              48.500000\n                      4.0              41.500000\n                      5.0              19.000000\n               75%    0.0              90.000000\n                      1.0              84.250000\n                      2.0              74.000000\n                      3.0              63.000000\n                      4.0              50.000000\n                      5.0              29.750000\n               max    0.0              98.000000\n                      1.0              98.000000\n                      2.0              88.000000\n                      3.0              78.000000\n                      4.0              87.000000\n                      5.0              87.000000\ndtype: float64"
          },
          "metadata": {}
        }
      ]
    },
    {
      "cell_type": "code",
      "source": "df[['reduced_lunch','school_rating']].corr()",
      "metadata": {
        "trusted": true
      },
      "execution_count": 14,
      "outputs": [
        {
          "execution_count": 14,
          "output_type": "execute_result",
          "data": {
            "text/plain": "               reduced_lunch  school_rating\nreduced_lunch       1.000000      -0.815757\nschool_rating      -0.815757       1.000000",
            "text/html": "<div>\n<style scoped>\n    .dataframe tbody tr th:only-of-type {\n        vertical-align: middle;\n    }\n\n    .dataframe tbody tr th {\n        vertical-align: top;\n    }\n\n    .dataframe thead th {\n        text-align: right;\n    }\n</style>\n<table border=\"1\" class=\"dataframe\">\n  <thead>\n    <tr style=\"text-align: right;\">\n      <th></th>\n      <th>reduced_lunch</th>\n      <th>school_rating</th>\n    </tr>\n  </thead>\n  <tbody>\n    <tr>\n      <th>reduced_lunch</th>\n      <td>1.000000</td>\n      <td>-0.815757</td>\n    </tr>\n    <tr>\n      <th>school_rating</th>\n      <td>-0.815757</td>\n      <td>1.000000</td>\n    </tr>\n  </tbody>\n</table>\n</div>"
          },
          "metadata": {}
        }
      ]
    },
    {
      "cell_type": "code",
      "source": "",
      "metadata": {},
      "execution_count": null,
      "outputs": []
    }
  ]
}